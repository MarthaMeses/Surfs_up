{
 "cells": [
  {
   "cell_type": "markdown",
   "metadata": {},
   "source": [
    "# UNIT 10  |  Advanced Data Storage and Retrieval\n",
    "\n",
    "@autor Martha Meses"
   ]
  },
  {
   "cell_type": "code",
   "execution_count": 1,
   "metadata": {},
   "outputs": [],
   "source": [
    "%matplotlib inline\n",
    "import matplotlib.pyplot as plt"
   ]
  },
  {
   "cell_type": "code",
   "execution_count": 2,
   "metadata": {},
   "outputs": [],
   "source": [
    "import numpy as np\n",
    "import pandas as pd\n",
    "import datetime as dt"
   ]
  },
  {
   "cell_type": "markdown",
   "metadata": {},
   "source": [
    "### Reflect Tables into SQLAlchemy ORM"
   ]
  },
  {
   "cell_type": "code",
   "execution_count": 3,
   "metadata": {},
   "outputs": [],
   "source": [
    "# Python SQL toolkit and Object Relational Mapper\n",
    "import sqlalchemy\n",
    "from sqlalchemy.ext.automap import automap_base\n",
    "from sqlalchemy.orm import Session\n",
    "from sqlalchemy import create_engine, inspect, func, or_, and_, desc"
   ]
  },
  {
   "cell_type": "code",
   "execution_count": 4,
   "metadata": {},
   "outputs": [],
   "source": [
    "# Create an engine that can talk to the Database, using the file hawaii.sqlite\n",
    "engine = create_engine(\"sqlite:///../Resources/hawaii.sqlite\")"
   ]
  },
  {
   "cell_type": "code",
   "execution_count": 5,
   "metadata": {},
   "outputs": [],
   "source": [
    "# Declare a Base using `automap_base()`\n",
    "Base = automap_base()"
   ]
  },
  {
   "cell_type": "code",
   "execution_count": 6,
   "metadata": {},
   "outputs": [],
   "source": [
    "# Use the Base class to reflect the database tables into ORM classes\n",
    "Base.prepare(engine, reflect=True)"
   ]
  },
  {
   "cell_type": "code",
   "execution_count": 7,
   "metadata": {},
   "outputs": [
    {
     "data": {
      "text/plain": [
       "['measurement', 'station']"
      ]
     },
     "execution_count": 7,
     "metadata": {},
     "output_type": "execute_result"
    }
   ],
   "source": [
    "# We can view all of the classes that automap found and mapped to the Base\n",
    "Base.classes.keys()"
   ]
  },
  {
   "cell_type": "code",
   "execution_count": 8,
   "metadata": {},
   "outputs": [],
   "source": [
    "# Assign the measurement class to a variable called Measurement\n",
    "Measurement = Base.classes.measurement"
   ]
  },
  {
   "cell_type": "code",
   "execution_count": 9,
   "metadata": {},
   "outputs": [],
   "source": [
    "# Assign the station class to a variable called Station\n",
    "Station = Base.classes.station"
   ]
  },
  {
   "cell_type": "markdown",
   "metadata": {},
   "source": [
    "### Using an inspector to collect the names of all of the tables within the database, the column names and data types of the tables."
   ]
  },
  {
   "cell_type": "code",
   "execution_count": 10,
   "metadata": {},
   "outputs": [],
   "source": [
    "# Create the inspector and connect it to the engine\n",
    "inspector = inspect(engine)"
   ]
  },
  {
   "cell_type": "code",
   "execution_count": 11,
   "metadata": {},
   "outputs": [
    {
     "data": {
      "text/plain": [
       "['measurement', 'station']"
      ]
     },
     "execution_count": 11,
     "metadata": {},
     "output_type": "execute_result"
    }
   ],
   "source": [
    "# Collect the names of tables within the database\n",
    "inspector.get_table_names()"
   ]
  },
  {
   "cell_type": "code",
   "execution_count": 12,
   "metadata": {},
   "outputs": [
    {
     "name": "stdout",
     "output_type": "stream",
     "text": [
      "id INTEGER\n",
      "station TEXT\n",
      "date TEXT\n",
      "prcp FLOAT\n",
      "tobs FLOAT\n"
     ]
    }
   ],
   "source": [
    "# Using the inspector to print the column names within the ''measurement'' table and its types\n",
    "columns = inspector.get_columns('measurement')\n",
    "for column in columns:\n",
    "    print(column[\"name\"], column[\"type\"])"
   ]
  },
  {
   "cell_type": "code",
   "execution_count": 13,
   "metadata": {},
   "outputs": [
    {
     "name": "stdout",
     "output_type": "stream",
     "text": [
      "id INTEGER\n",
      "station TEXT\n",
      "name TEXT\n",
      "latitude FLOAT\n",
      "longitude FLOAT\n",
      "elevation FLOAT\n"
     ]
    }
   ],
   "source": [
    "# Using the inspector to print the column names within the ''station'' table and its types\n",
    "columns = inspector.get_columns('station')\n",
    "for column in columns:\n",
    "    print(column[\"name\"], column[\"type\"])"
   ]
  },
  {
   "cell_type": "code",
   "execution_count": 14,
   "metadata": {},
   "outputs": [],
   "source": [
    "# Create a Session Object(link) from Python to connect to the DB\n",
    "session = Session(engine)"
   ]
  },
  {
   "cell_type": "markdown",
   "metadata": {},
   "source": [
    "# Climate Analysis and Exploration"
   ]
  },
  {
   "cell_type": "markdown",
   "metadata": {},
   "source": [
    "## Precipitation Analysis"
   ]
  },
  {
   "cell_type": "markdown",
   "metadata": {},
   "source": [
    "### Design a query to retrieve the last 12 months of precipitation data and plot the results"
   ]
  },
  {
   "cell_type": "code",
   "execution_count": 15,
   "metadata": {},
   "outputs": [
    {
     "name": "stdout",
     "output_type": "stream",
     "text": [
      "LAST DATE RECORD IN DATASET: 2017-08-23\n",
      "LAST 12 MONTHS: 2016-08-23 00:00:00 TO 2017-08-23 00:00:00\n"
     ]
    }
   ],
   "source": [
    "# Last 12 months\n",
    "endDate = engine.execute(\"SELECT max(date) FROM measurement\").first()\n",
    "endDate = str(endDate).replace(',','').replace('(','').replace(')','').replace(\"'\",'')\n",
    "print(f'LAST DATE RECORD IN DATASET: {endDate}')\n",
    "endDate = dt.datetime.strptime(endDate, '%Y-%m-%d')\n",
    "startDate = endDate - dt.timedelta(days=365)\n",
    "print(f'LAST 12 MONTHS: {startDate} TO {endDate}')"
   ]
  },
  {
   "cell_type": "code",
   "execution_count": 16,
   "metadata": {},
   "outputs": [],
   "source": [
    "# Query retrieving 12 months\n",
    "data = session.query(Measurement.prcp, Measurement.date)\\\n",
    "       .filter(and_(Measurement.date>=startDate,Measurement.date<=endDate))\\\n",
    "       .order_by(Measurement.date)\\\n",
    "       .all()\n",
    "# for record in data:\n",
    "#     print(record)"
   ]
  },
  {
   "cell_type": "code",
   "execution_count": 17,
   "metadata": {},
   "outputs": [],
   "source": [
    "# Save the query results as a Pandas DataFrame\n",
    "precipitation_df = pd.DataFrame(data, columns=['prcp', 'date'])\n",
    "# precipitation_df"
   ]
  },
  {
   "cell_type": "code",
   "execution_count": 18,
   "metadata": {},
   "outputs": [
    {
     "data": {
      "image/png": "[encoded data removed]",
      "text/plain": [
       "<Figure size 700x700 with 1 Axes>"
      ]
     },
     "metadata": {
      "needs_background": "light"
     },
     "output_type": "display_data"
    }
   ],
   "source": [
    "# Ploting the results as a bar chart using pandas plotting\n",
    "plt.figure(figsize =(10,10), dpi=70)\n",
    "plt.bar(precipitation_df['date'],precipitation_df['prcp'], width=6, alpha=1,color='#FF7500')\n",
    "plt.grid()\n",
    "plt.title(f'PRECIPITATION OF {startDate} TO {endDate}')\n",
    "plt.xlabel('DATE')\n",
    "plt.ylabel('PRECIPITATION')\n",
    "plt.tight_layout()\n",
    "plt.show()"
   ]
  },
  {
   "cell_type": "markdown",
   "metadata": {},
   "source": [
    "![precipitation](../Resources/Images/precipitation.png)"
   ]
  },
  {
   "cell_type": "markdown",
   "metadata": {},
   "source": [
    "### Using Pandas to calculate the summary statistics for the precipitation data"
   ]
  },
  {
   "cell_type": "code",
   "execution_count": 19,
   "metadata": {},
   "outputs": [],
   "source": [
    "prcpCount = precipitation_df['prcp'].count()\n",
    "# print(prcpCount)"
   ]
  },
  {
   "cell_type": "code",
   "execution_count": 20,
   "metadata": {},
   "outputs": [],
   "source": [
    "prcpMean = precipitation_df['prcp'].mean()\n",
    "# print(prcpMean)"
   ]
  },
  {
   "cell_type": "code",
   "execution_count": 21,
   "metadata": {},
   "outputs": [],
   "source": [
    "prcpMax = precipitation_df['prcp'].max()\n",
    "# print(prcpMax)"
   ]
  },
  {
   "cell_type": "code",
   "execution_count": 22,
   "metadata": {},
   "outputs": [],
   "source": [
    "prcpMin = precipitation_df['prcp'].min()\n",
    "# prcpMin"
   ]
  },
  {
   "cell_type": "code",
   "execution_count": 23,
   "metadata": {},
   "outputs": [],
   "source": [
    "prcpStd = precipitation_df['prcp'].std()\n",
    "# print(prcpStd)"
   ]
  },
  {
   "cell_type": "code",
   "execution_count": 24,
   "metadata": {},
   "outputs": [],
   "source": [
    "prcpTotal = precipitation_df['prcp'].sum()/prcpCount\n",
    "prcp25 = prcpTotal*0.25\n",
    "prcp50 = prcpTotal*0.5\n",
    "prcp75 = prcpTotal*0.75\n",
    "# print(prcp25, prcp50, prcp75)"
   ]
  },
  {
   "cell_type": "code",
   "execution_count": 25,
   "metadata": {},
   "outputs": [
    {
     "data": {
      "text/html": [
       "<div>\n",
       "<style scoped>\n",
       "    .dataframe tbody tr th:only-of-type {\n",
       "        vertical-align: middle;\n",
       "    }\n",
       "\n",
       "    .dataframe tbody tr th {\n",
       "        vertical-align: top;\n",
       "    }\n",
       "\n",
       "    .dataframe thead th {\n",
       "        text-align: right;\n",
       "    }\n",
       "</style>\n",
       "<table border=\"1\" class=\"dataframe\">\n",
       "  <thead>\n",
       "    <tr style=\"text-align: right;\">\n",
       "      <th></th>\n",
       "      <th></th>\n",
       "      <th>PRECIPITATION</th>\n",
       "    </tr>\n",
       "  </thead>\n",
       "  <tbody>\n",
       "    <tr>\n",
       "      <th>0</th>\n",
       "      <td>COUNT</td>\n",
       "      <td>2015.000000</td>\n",
       "    </tr>\n",
       "    <tr>\n",
       "      <th>1</th>\n",
       "      <td>MEAN</td>\n",
       "      <td>0.176462</td>\n",
       "    </tr>\n",
       "    <tr>\n",
       "      <th>2</th>\n",
       "      <td>STD</td>\n",
       "      <td>0.460288</td>\n",
       "    </tr>\n",
       "    <tr>\n",
       "      <th>3</th>\n",
       "      <td>MAX</td>\n",
       "      <td>6.700000</td>\n",
       "    </tr>\n",
       "    <tr>\n",
       "      <th>4</th>\n",
       "      <td>MIN</td>\n",
       "      <td>0.000000</td>\n",
       "    </tr>\n",
       "    <tr>\n",
       "      <th>5</th>\n",
       "      <td>25%</td>\n",
       "      <td>0.044115</td>\n",
       "    </tr>\n",
       "    <tr>\n",
       "      <th>6</th>\n",
       "      <td>50%</td>\n",
       "      <td>0.088231</td>\n",
       "    </tr>\n",
       "    <tr>\n",
       "      <th>7</th>\n",
       "      <td>75%</td>\n",
       "      <td>0.132346</td>\n",
       "    </tr>\n",
       "  </tbody>\n",
       "</table>\n",
       "</div>"
      ],
      "text/plain": [
       "          PRECIPITATION \n",
       "0  COUNT     2015.000000\n",
       "1   MEAN        0.176462\n",
       "2    STD        0.460288\n",
       "3    MAX        6.700000\n",
       "4    MIN        0.000000\n",
       "5    25%        0.044115\n",
       "6    50%        0.088231\n",
       "7    75%        0.132346"
      ]
     },
     "execution_count": 25,
     "metadata": {},
     "output_type": "execute_result"
    }
   ],
   "source": [
    "showResults = pd.DataFrame({\" \":['COUNT','MEAN','STD','MAX','MIN','25%','50%','75%'],\\\n",
    "                            \"PRECIPITATION \":[prcpCount,prcpMean,prcpStd,prcpMax,prcpMin,prcp25,prcp50,prcp75]})\n",
    "showResults"
   ]
  },
  {
   "cell_type": "markdown",
   "metadata": {},
   "source": [
    "![describe](../Resources/Images/describe.png)"
   ]
  },
  {
   "cell_type": "markdown",
   "metadata": {},
   "source": [
    "## Station Analysis"
   ]
  },
  {
   "cell_type": "code",
   "execution_count": 26,
   "metadata": {},
   "outputs": [
    {
     "name": "stdout",
     "output_type": "stream",
     "text": [
      "STATIONS AVAILABLE:  9\n"
     ]
    }
   ],
   "source": [
    "# Design a query to show how many stations are available in this dataset\n",
    "stationAvailable = session.query(Measurement.station).distinct(Measurement.station).count()\n",
    "print(\"STATIONS AVAILABLE: \", stationAvailable)"
   ]
  },
  {
   "cell_type": "code",
   "execution_count": 27,
   "metadata": {},
   "outputs": [
    {
     "data": {
      "text/html": [
       "<div>\n",
       "<style scoped>\n",
       "    .dataframe tbody tr th:only-of-type {\n",
       "        vertical-align: middle;\n",
       "    }\n",
       "\n",
       "    .dataframe tbody tr th {\n",
       "        vertical-align: top;\n",
       "    }\n",
       "\n",
       "    .dataframe thead th {\n",
       "        text-align: right;\n",
       "    }\n",
       "</style>\n",
       "<table border=\"1\" class=\"dataframe\">\n",
       "  <thead>\n",
       "    <tr style=\"text-align: right;\">\n",
       "      <th></th>\n",
       "      <th>Station</th>\n",
       "      <th>Total Rows</th>\n",
       "    </tr>\n",
       "  </thead>\n",
       "  <tbody>\n",
       "    <tr>\n",
       "      <th>0</th>\n",
       "      <td>USC00519523</td>\n",
       "      <td>2669</td>\n",
       "    </tr>\n",
       "    <tr>\n",
       "      <th>1</th>\n",
       "      <td>USC00519397</td>\n",
       "      <td>2724</td>\n",
       "    </tr>\n",
       "    <tr>\n",
       "      <th>2</th>\n",
       "      <td>USC00519281</td>\n",
       "      <td>2772</td>\n",
       "    </tr>\n",
       "    <tr>\n",
       "      <th>3</th>\n",
       "      <td>USC00518838</td>\n",
       "      <td>511</td>\n",
       "    </tr>\n",
       "    <tr>\n",
       "      <th>4</th>\n",
       "      <td>USC00517948</td>\n",
       "      <td>1372</td>\n",
       "    </tr>\n",
       "    <tr>\n",
       "      <th>5</th>\n",
       "      <td>USC00516128</td>\n",
       "      <td>2612</td>\n",
       "    </tr>\n",
       "    <tr>\n",
       "      <th>6</th>\n",
       "      <td>USC00514830</td>\n",
       "      <td>2202</td>\n",
       "    </tr>\n",
       "    <tr>\n",
       "      <th>7</th>\n",
       "      <td>USC00513117</td>\n",
       "      <td>2709</td>\n",
       "    </tr>\n",
       "    <tr>\n",
       "      <th>8</th>\n",
       "      <td>USC00511918</td>\n",
       "      <td>1979</td>\n",
       "    </tr>\n",
       "  </tbody>\n",
       "</table>\n",
       "</div>"
      ],
      "text/plain": [
       "       Station  Total Rows\n",
       "0  USC00519523        2669\n",
       "1  USC00519397        2724\n",
       "2  USC00519281        2772\n",
       "3  USC00518838         511\n",
       "4  USC00517948        1372\n",
       "5  USC00516128        2612\n",
       "6  USC00514830        2202\n",
       "7  USC00513117        2709\n",
       "8  USC00511918        1979"
      ]
     },
     "execution_count": 27,
     "metadata": {},
     "output_type": "execute_result"
    }
   ],
   "source": [
    "# What are the most active stations? (i.e. what stations have the most rows)\n",
    "# List the stations and the counts in descending order.\n",
    "activeStations = session.query(Measurement.station, func.count(Measurement.station))\\\n",
    "                 .group_by(Measurement.station)\\\n",
    "                 .order_by(desc(Measurement.station))\\\n",
    "                 .all() \n",
    "# activeStations\n",
    "# Save the query results as a Pandas DataFrame to be print\n",
    "activeStations_df = pd.DataFrame(activeStations, columns=['Station', 'Total Rows'])\n",
    "activeStations_df"
   ]
  },
  {
   "cell_type": "code",
   "execution_count": 28,
   "metadata": {},
   "outputs": [
    {
     "name": "stdout",
     "output_type": "stream",
     "text": [
      "MOST ACTIVE STATION: USC00519523\n"
     ]
    }
   ],
   "source": [
    "# Using the station id from the previous query, calculate the lowest temperature recorded, \n",
    "# highest temperature recorded, and average temperature most active station\n",
    "# Select the most active station\n",
    "mostActiveStation = activeStations_df.iloc[0,0]\n",
    "print(f'MOST ACTIVE STATION: {mostActiveStation}')"
   ]
  },
  {
   "cell_type": "code",
   "execution_count": 29,
   "metadata": {},
   "outputs": [
    {
     "name": "stdout",
     "output_type": "stream",
     "text": [
      "TEMPERATURE SUMMARY STATISTICS OF USC00519523 STATION\n",
      "LOWEST TEPERATURE: 56.0\n",
      "HIGHEST TEPERATURE: 85.0\n",
      "AVERAGE TEPERATURE: 74.5436493068565\n"
     ]
    }
   ],
   "source": [
    "# Query to calculate the summary statistics of temperature of most activate station\n",
    "summaryTemperature = session.query(func.min(Measurement.tobs), func.max(Measurement.tobs), func.avg(Measurement.tobs))\\\n",
    "                     .filter(Measurement.station == mostActiveStation)\\\n",
    "                     .all()\n",
    "# print(dataTemperature)\n",
    "# Save the query results as a Pandas DataFrame to be print\n",
    "summaryTemperature_df = pd.DataFrame(summaryTemperature, columns=['min','max','avg'])\n",
    "print(f'TEMPERATURE SUMMARY STATISTICS OF {mostActiveStation} STATION')\n",
    "print(f'LOWEST TEPERATURE: {summaryTemperature_df.iloc[0,0]}')\n",
    "print(f'HIGHEST TEPERATURE: {summaryTemperature_df.iloc[0,1]}')\n",
    "print(f'AVERAGE TEPERATURE: {summaryTemperature_df.iloc[0,2]}')"
   ]
  },
  {
   "cell_type": "code",
   "execution_count": 30,
   "metadata": {},
   "outputs": [],
   "source": [
    "# Choose the station with the highest number of temperature observations.\n",
    "# Query the last 12 months of temperature observation data for this station and plot the results as a histogram\n",
    "stationByYear = session.query(Measurement.tobs, Measurement.date)\\\n",
    "            .filter(and_(Measurement.station == mostActiveStation, Measurement.date>=startDate,Measurement.date<=endDate))\\\n",
    "            .all()\n",
    "# stationByYear"
   ]
  },
  {
   "cell_type": "markdown",
   "metadata": {},
   "source": [
    "![precipitation](Images/station-histogram.png)"
   ]
  },
  {
   "cell_type": "code",
   "execution_count": 31,
   "metadata": {},
   "outputs": [],
   "source": [
    "# Save the query results as a Pandas DataFrame\n",
    "temperature_df = pd.DataFrame(stationByYear, columns=['tobs', 'date'])\n",
    "# temperature_df"
   ]
  },
  {
   "cell_type": "code",
   "execution_count": 32,
   "metadata": {},
   "outputs": [
    {
     "data": {
      "image/png": "[encoded data removed]",
      "text/plain": [
       "<Figure size 700x700 with 1 Axes>"
      ]
     },
     "metadata": {
      "needs_background": "light"
     },
     "output_type": "display_data"
    }
   ],
   "source": [
    "# Ploting the results as a histogram chart using pandas plotting\n",
    "plt.figure(figsize =(10,10), dpi=70)\n",
    "plt.hist(temperature_df['tobs'], facecolor='#FF7500', edgecolor='green', bins=10, label = 'TOBS')\n",
    "plt.grid()\n",
    "plt.title(f'TEMPERATURE OF {startDate} TO {endDate} OF {mostActiveStation} STATION')\n",
    "plt.ylabel('FRECUENCY')\n",
    "plt.legend(loc='upper right')\n",
    "plt.tight_layout()\n",
    "plt.show()"
   ]
  },
  {
   "cell_type": "markdown",
   "metadata": {},
   "source": [
    "## Temperature Analysis (Optional)"
   ]
  },
  {
   "cell_type": "code",
   "execution_count": 33,
   "metadata": {},
   "outputs": [
    {
     "name": "stdout",
     "output_type": "stream",
     "text": [
      "FUNCTION USAGE EXAMPLE: [(62.0, 69.57142857142857, 74.0)]\n"
     ]
    }
   ],
   "source": [
    "# This function called `calc_temps` will accept start date and end date in the format '%Y-%m-%d' \n",
    "# and return the minimum, average, and maximum temperatures for that range of dates\n",
    "def calc_temps(start_date, end_date):\n",
    "    \"\"\"TMIN, TAVG, and TMAX for a list of dates.\n",
    "    \n",
    "    Args:\n",
    "        start_date (string): A date string in the format %Y-%m-%d\n",
    "        end_date (string): A date string in the format %Y-%m-%d\n",
    "        \n",
    "    Returns:\n",
    "        TMIN, TAVE, and TMAX\n",
    "    \"\"\"\n",
    "    \n",
    "    return session.query(func.min(Measurement.tobs), func.avg(Measurement.tobs), func.max(Measurement.tobs))\\\n",
    "            .filter(Measurement.date >= start_date)\\\n",
    "            .filter(Measurement.date <= end_date)\\\n",
    "            .all()\n",
    "\n",
    "# function usage example\n",
    "print(f'FUNCTION USAGE EXAMPLE: {calc_temps(\"2012-02-28\", \"2012-03-05\")}')"
   ]
  },
  {
   "cell_type": "code",
   "execution_count": 34,
   "metadata": {},
   "outputs": [
    {
     "name": "stdout",
     "output_type": "stream",
     "text": [
      "FUNCTION USAGE MY TRIP: [(58.0, 74.57894736842105, 87.0)]\n"
     ]
    }
   ],
   "source": [
    "# Use your previous function `calc_temps` to calculate the tmin, tavg, and tmax \n",
    "# for your trip using the previous year's data for those same dates.\n",
    "calTemps = calc_temps(startDate, endDate)\n",
    "print(f'FUNCTION USAGE MY TRIP: {calTemps}')"
   ]
  },
  {
   "cell_type": "code",
   "execution_count": 35,
   "metadata": {},
   "outputs": [],
   "source": [
    "# Plot the results from your previous query as a bar chart. \n",
    "calTemps_df = pd.DataFrame(calTemps, columns=['min','avg','max'])\n",
    "x_pos = np.arange(len(calTemps))\n",
    "# Use the average temperature for the y value\n",
    "y_axis = [calTemps_df.iloc[0,1]]\n",
    "# Use the peak-to-peak (tmax-tmin) value as the y error bar (yerr)\n",
    "errorArray = [calTemps_df.iloc[0,2],calTemps_df.iloc[0,0]]\n",
    "errorArray = np.std(errorArray)\n",
    "error = [errorArray]"
   ]
  },
  {
   "cell_type": "code",
   "execution_count": 36,
   "metadata": {},
   "outputs": [
    {
     "data": {
      "image/png": "[encoded data removed]",
      "text/plain": [
       "<Figure size 280x700 with 1 Axes>"
      ]
     },
     "metadata": {
      "needs_background": "light"
     },
     "output_type": "display_data"
    }
   ],
   "source": [
    "# Ploting the results as a bar chart using pandas plotting\n",
    "plt.figure(figsize =(4,10), dpi=70)\n",
    "plt.bar(x_pos,y_axis, yerr=error, width=10, align='center', alpha=1, ecolor='black', capsize=10,color='#FF7500')\n",
    "plt.grid()\n",
    "# Use \"Trip Avg Temp\" as your Title\n",
    "plt.title('TRIP AVG TEMP')\n",
    "plt.ylabel('AVG TEMPERATURE')\n",
    "plt.tight_layout()\n",
    "plt.show()"
   ]
  },
  {
   "cell_type": "markdown",
   "metadata": {},
   "source": [
    "# Optional Challenge Assignment"
   ]
  },
  {
   "cell_type": "markdown",
   "metadata": {},
   "source": [
    "### Calculate the rainfall per weather station using the previous year's matching dates."
   ]
  },
  {
   "cell_type": "code",
   "execution_count": 37,
   "metadata": {},
   "outputs": [
    {
     "data": {
      "text/html": [
       "<div>\n",
       "<style scoped>\n",
       "    .dataframe tbody tr th:only-of-type {\n",
       "        vertical-align: middle;\n",
       "    }\n",
       "\n",
       "    .dataframe tbody tr th {\n",
       "        vertical-align: top;\n",
       "    }\n",
       "\n",
       "    .dataframe thead th {\n",
       "        text-align: right;\n",
       "    }\n",
       "</style>\n",
       "<table border=\"1\" class=\"dataframe\">\n",
       "  <thead>\n",
       "    <tr style=\"text-align: right;\">\n",
       "      <th></th>\n",
       "      <th>STATION</th>\n",
       "      <th>NAME</th>\n",
       "      <th>LATITUDE</th>\n",
       "      <th>LONGITUDE</th>\n",
       "      <th>ELEVATION</th>\n",
       "      <th>RAINFALL</th>\n",
       "    </tr>\n",
       "  </thead>\n",
       "  <tbody>\n",
       "    <tr>\n",
       "      <th>0</th>\n",
       "      <td>USC00514830</td>\n",
       "      <td>KUALOA RANCH HEADQUARTERS 886.9, HI US</td>\n",
       "      <td>21.52130</td>\n",
       "      <td>-157.83740</td>\n",
       "      <td>7.0</td>\n",
       "      <td>0.125720</td>\n",
       "    </tr>\n",
       "    <tr>\n",
       "      <th>1</th>\n",
       "      <td>USC00513117</td>\n",
       "      <td>KANEOHE 838.1, HI US</td>\n",
       "      <td>21.42340</td>\n",
       "      <td>-157.80150</td>\n",
       "      <td>14.6</td>\n",
       "      <td>0.141404</td>\n",
       "    </tr>\n",
       "    <tr>\n",
       "      <th>2</th>\n",
       "      <td>USC00519281</td>\n",
       "      <td>WAIHEE 837.5, HI US</td>\n",
       "      <td>21.45167</td>\n",
       "      <td>-157.84889</td>\n",
       "      <td>32.9</td>\n",
       "      <td>0.194416</td>\n",
       "    </tr>\n",
       "    <tr>\n",
       "      <th>3</th>\n",
       "      <td>USC00516128</td>\n",
       "      <td>MANOA LYON ARBO 785.2, HI US</td>\n",
       "      <td>21.33310</td>\n",
       "      <td>-157.80250</td>\n",
       "      <td>152.4</td>\n",
       "      <td>0.449878</td>\n",
       "    </tr>\n",
       "    <tr>\n",
       "      <th>4</th>\n",
       "      <td>USC00519523</td>\n",
       "      <td>WAIMANALO EXPERIMENTAL FARM, HI US</td>\n",
       "      <td>21.33556</td>\n",
       "      <td>-157.71139</td>\n",
       "      <td>19.5</td>\n",
       "      <td>0.121374</td>\n",
       "    </tr>\n",
       "    <tr>\n",
       "      <th>5</th>\n",
       "      <td>USC00519397</td>\n",
       "      <td>WAIKIKI 717.2, HI US</td>\n",
       "      <td>21.27160</td>\n",
       "      <td>-157.81680</td>\n",
       "      <td>3.0</td>\n",
       "      <td>0.044944</td>\n",
       "    </tr>\n",
       "    <tr>\n",
       "      <th>6</th>\n",
       "      <td>USC00517948</td>\n",
       "      <td>PEARL CITY, HI US</td>\n",
       "      <td>21.39340</td>\n",
       "      <td>-157.97510</td>\n",
       "      <td>11.9</td>\n",
       "      <td>0.076500</td>\n",
       "    </tr>\n",
       "  </tbody>\n",
       "</table>\n",
       "</div>"
      ],
      "text/plain": [
       "       STATION                                    NAME  LATITUDE  LONGITUDE  \\\n",
       "0  USC00514830  KUALOA RANCH HEADQUARTERS 886.9, HI US  21.52130 -157.83740   \n",
       "1  USC00513117                    KANEOHE 838.1, HI US  21.42340 -157.80150   \n",
       "2  USC00519281                     WAIHEE 837.5, HI US  21.45167 -157.84889   \n",
       "3  USC00516128            MANOA LYON ARBO 785.2, HI US  21.33310 -157.80250   \n",
       "4  USC00519523      WAIMANALO EXPERIMENTAL FARM, HI US  21.33556 -157.71139   \n",
       "5  USC00519397                    WAIKIKI 717.2, HI US  21.27160 -157.81680   \n",
       "6  USC00517948                       PEARL CITY, HI US  21.39340 -157.97510   \n",
       "\n",
       "   ELEVATION  RAINFALL  \n",
       "0        7.0  0.125720  \n",
       "1       14.6  0.141404  \n",
       "2       32.9  0.194416  \n",
       "3      152.4  0.449878  \n",
       "4       19.5  0.121374  \n",
       "5        3.0  0.044944  \n",
       "6       11.9  0.076500  "
      ]
     },
     "execution_count": 37,
     "metadata": {},
     "output_type": "execute_result"
    }
   ],
   "source": [
    "# Sort this in descending order by precipitation amount and list the station, name, latitude, longitude, and elevation\n",
    "rainfallPerStation = session.query(Station.station, Station.name, Station.latitude, Station.longitude, Station.elevation,\\\n",
    "                                   func.avg(Measurement.prcp))\\\n",
    "                        .filter(and_(Measurement.date >= startDate, Measurement.date <= endDate))\\\n",
    "                        .filter(Station.station == Measurement.station)\\\n",
    "                        .group_by(Measurement.station)\\\n",
    "                        .order_by(desc(Measurement.prcp))\\\n",
    "                        .all()\n",
    "#print(rainfallPerStation)\n",
    "station_df = pd.DataFrame(rainfallPerStation, columns = ['STATION','NAME','LATITUDE','LONGITUDE','ELEVATION','RAINFALL'])\n",
    "station_df"
   ]
  },
  {
   "cell_type": "markdown",
   "metadata": {},
   "source": [
    "### Calculate the daily normals for your trip"
   ]
  },
  {
   "cell_type": "code",
   "execution_count": 38,
   "metadata": {},
   "outputs": [
    {
     "name": "stdout",
     "output_type": "stream",
     "text": [
      "FUNCTION USAGE EXAMPLE: [(62.0, 69.15384615384616, 77.0)]\n"
     ]
    }
   ],
   "source": [
    "# Create a query that will calculate the daily normals \n",
    "# (i.e. the averages for tmin, tmax, and tavg for all historic data matching a specific month and day)\n",
    "\n",
    "def daily_normals(date):\n",
    "    \"\"\"Daily Normals.\n",
    "    \n",
    "    Args:\n",
    "        date (str): A date string in the format '%m-%d'\n",
    "        \n",
    "    Returns:\n",
    "        A list of tuples containing the daily normals, tmin, tavg, and tmax\n",
    "    \n",
    "    \"\"\"\n",
    "    \n",
    "    sel = [func.min(Measurement.tobs), func.avg(Measurement.tobs), func.max(Measurement.tobs)]\n",
    "    return session.query(*sel).filter(func.strftime(\"%m-%d\", Measurement.date) == date).all()\n",
    "\n",
    "# function usage example\n",
    "print(f'FUNCTION USAGE EXAMPLE: {daily_normals(\"01-01\")}')"
   ]
  },
  {
   "cell_type": "code",
   "execution_count": 39,
   "metadata": {},
   "outputs": [
    {
     "name": "stdout",
     "output_type": "stream",
     "text": [
      "2017-03-13 00:00:00\n",
      "2017-03-14 00:00:00\n",
      "2017-03-15 00:00:00\n",
      "2017-03-16 00:00:00\n",
      "2017-03-17 00:00:00\n",
      "2017-03-18 00:00:00\n",
      "2017-03-19 00:00:00\n",
      "2017-03-20 00:00:00\n",
      "2017-03-21 00:00:00\n",
      "2017-03-22 00:00:00\n",
      "2017-03-23 00:00:00\n"
     ]
    }
   ],
   "source": [
    "# Set the start and end date of the trip\n",
    "startDayTrip = dt.datetime(2017,3,13,0,0,0)\n",
    "totalDays = 11\n",
    "# Use the start and end date to create a range of dates\n",
    "daysList = []\n",
    "for d in range (0, totalDays):\n",
    "    daysList.append(startDayTrip + dt.timedelta(days = d))\n",
    "for i in daysList:\n",
    "    print(i)"
   ]
  },
  {
   "cell_type": "code",
   "execution_count": 40,
   "metadata": {},
   "outputs": [
    {
     "name": "stdout",
     "output_type": "stream",
     "text": [
      "03-13\n",
      "03-14\n",
      "03-15\n",
      "03-16\n",
      "03-17\n",
      "03-18\n",
      "03-19\n",
      "03-20\n",
      "03-21\n",
      "03-22\n",
      "03-23\n"
     ]
    }
   ],
   "source": [
    "# Stip off the year and save a list of %m-%d strings\n",
    "for i in range(len(daysList)):\n",
    "    daysList[i] = daysList[i].strftime(\"%m-%d\")\n",
    "    print(daysList[i])"
   ]
  },
  {
   "cell_type": "code",
   "execution_count": 41,
   "metadata": {},
   "outputs": [
    {
     "data": {
      "text/plain": [
       "[[(56.0, 69.29629629629629, 77.0)],\n",
       " [(62.0, 70.32758620689656, 77.0)],\n",
       " [(58.0, 68.54716981132076, 76.0)],\n",
       " [(60.0, 69.70370370370371, 78.0)],\n",
       " [(57.0, 68.54, 75.0)],\n",
       " [(57.0, 67.7843137254902, 76.0)],\n",
       " [(60.0, 69.1, 75.0)],\n",
       " [(62.0, 70.11764705882354, 80.0)],\n",
       " [(60.0, 71.07692307692308, 77.0)],\n",
       " [(65.0, 71.75471698113208, 77.0)],\n",
       " [(63.0, 70.79629629629629, 78.0)]]"
      ]
     },
     "execution_count": 41,
     "metadata": {},
     "output_type": "execute_result"
    }
   ],
   "source": [
    "# Loop through the list of %m-%d strings and calculate the normals for each date\n",
    "# push each tuple of calculations into a list called `normals`\n",
    "normals = []\n",
    "for x in daysList:\n",
    "    normals.append(daily_normals(x))\n",
    "normals"
   ]
  },
  {
   "cell_type": "code",
   "execution_count": 42,
   "metadata": {},
   "outputs": [
    {
     "data": {
      "text/html": [
       "<div>\n",
       "<style scoped>\n",
       "    .dataframe tbody tr th:only-of-type {\n",
       "        vertical-align: middle;\n",
       "    }\n",
       "\n",
       "    .dataframe tbody tr th {\n",
       "        vertical-align: top;\n",
       "    }\n",
       "\n",
       "    .dataframe thead th {\n",
       "        text-align: right;\n",
       "    }\n",
       "</style>\n",
       "<table border=\"1\" class=\"dataframe\">\n",
       "  <thead>\n",
       "    <tr style=\"text-align: right;\">\n",
       "      <th></th>\n",
       "      <th>TMIN</th>\n",
       "      <th>TAVG</th>\n",
       "      <th>TMAX</th>\n",
       "    </tr>\n",
       "    <tr>\n",
       "      <th>DATE</th>\n",
       "      <th></th>\n",
       "      <th></th>\n",
       "      <th></th>\n",
       "    </tr>\n",
       "  </thead>\n",
       "  <tbody>\n",
       "    <tr>\n",
       "      <th>03-13</th>\n",
       "      <td>56.0</td>\n",
       "      <td>69.296296</td>\n",
       "      <td>77.0</td>\n",
       "    </tr>\n",
       "    <tr>\n",
       "      <th>03-14</th>\n",
       "      <td>62.0</td>\n",
       "      <td>70.327586</td>\n",
       "      <td>77.0</td>\n",
       "    </tr>\n",
       "    <tr>\n",
       "      <th>03-15</th>\n",
       "      <td>58.0</td>\n",
       "      <td>68.547170</td>\n",
       "      <td>76.0</td>\n",
       "    </tr>\n",
       "    <tr>\n",
       "      <th>03-16</th>\n",
       "      <td>60.0</td>\n",
       "      <td>69.703704</td>\n",
       "      <td>78.0</td>\n",
       "    </tr>\n",
       "    <tr>\n",
       "      <th>03-17</th>\n",
       "      <td>57.0</td>\n",
       "      <td>68.540000</td>\n",
       "      <td>75.0</td>\n",
       "    </tr>\n",
       "    <tr>\n",
       "      <th>03-18</th>\n",
       "      <td>57.0</td>\n",
       "      <td>67.784314</td>\n",
       "      <td>76.0</td>\n",
       "    </tr>\n",
       "    <tr>\n",
       "      <th>03-19</th>\n",
       "      <td>60.0</td>\n",
       "      <td>69.100000</td>\n",
       "      <td>75.0</td>\n",
       "    </tr>\n",
       "    <tr>\n",
       "      <th>03-20</th>\n",
       "      <td>62.0</td>\n",
       "      <td>70.117647</td>\n",
       "      <td>80.0</td>\n",
       "    </tr>\n",
       "    <tr>\n",
       "      <th>03-21</th>\n",
       "      <td>60.0</td>\n",
       "      <td>71.076923</td>\n",
       "      <td>77.0</td>\n",
       "    </tr>\n",
       "    <tr>\n",
       "      <th>03-22</th>\n",
       "      <td>65.0</td>\n",
       "      <td>71.754717</td>\n",
       "      <td>77.0</td>\n",
       "    </tr>\n",
       "    <tr>\n",
       "      <th>03-23</th>\n",
       "      <td>63.0</td>\n",
       "      <td>70.796296</td>\n",
       "      <td>78.0</td>\n",
       "    </tr>\n",
       "  </tbody>\n",
       "</table>\n",
       "</div>"
      ],
      "text/plain": [
       "       TMIN       TAVG  TMAX\n",
       "DATE                        \n",
       "03-13  56.0  69.296296  77.0\n",
       "03-14  62.0  70.327586  77.0\n",
       "03-15  58.0  68.547170  76.0\n",
       "03-16  60.0  69.703704  78.0\n",
       "03-17  57.0  68.540000  75.0\n",
       "03-18  57.0  67.784314  76.0\n",
       "03-19  60.0  69.100000  75.0\n",
       "03-20  62.0  70.117647  80.0\n",
       "03-21  60.0  71.076923  77.0\n",
       "03-22  65.0  71.754717  77.0\n",
       "03-23  63.0  70.796296  78.0"
      ]
     },
     "execution_count": 42,
     "metadata": {},
     "output_type": "execute_result"
    }
   ],
   "source": [
    "# Load the previous query results into a Pandas DataFrame and add the `trip_dates` range as the `date` index\n",
    "tmin = []\n",
    "tavg = []\n",
    "tmax = []\n",
    "for i in range(len(normals)):\n",
    "     tmin.append(normals[i][0][0])\n",
    "     tavg.append(normals[i][0][1])\n",
    "     tmax.append(normals[i][0][2])\n",
    "tripDays_df = pd.DataFrame(list(zip(daysList,tmin,tavg,tmax)), columns=['DATE','TMIN','TAVG','TMAX'])\n",
    "tripDays_df.set_index(\"DATE\", inplace = True) \n",
    "tripDays_df"
   ]
  },
  {
   "cell_type": "code",
   "execution_count": 43,
   "metadata": {},
   "outputs": [
    {
     "data": {
      "text/plain": [
       "<Figure size 700x700 with 0 Axes>"
      ]
     },
     "metadata": {},
     "output_type": "display_data"
    },
    {
     "data": {
      "image/png": "[encoded data removed]",
      "text/plain": [
       "<Figure size 432x288 with 1 Axes>"
      ]
     },
     "metadata": {
      "needs_background": "light"
     },
     "output_type": "display_data"
    }
   ],
   "source": [
    "# Plot the daily normals as an area plot with `stacked=False`\n",
    "plt.figure(figsize =(10,10), dpi=70)\n",
    "tripDays_df.plot.area(stacked=False, linewidth = 10);\n",
    "plt.grid()\n",
    "plt.title('DAILY NORMALS OF MY TRIP')\n",
    "plt.legend(loc='upper right')\n",
    "plt.tight_layout()\n",
    "plt.show()"
   ]
  },
  {
   "cell_type": "code",
   "execution_count": null,
   "metadata": {},
   "outputs": [],
   "source": []
  }
 ],
 "metadata": {
  "kernel_info": {
   "name": "python3"
  },
  "kernelspec": {
   "display_name": "Python 3",
   "language": "python",
   "name": "python3"
  },
  "language_info": {
   "codemirror_mode": {
    "name": "ipython",
    "version": 3
   },
   "file_extension": ".py",
   "mimetype": "text/x-python",
   "name": "python",
   "nbconvert_exporter": "python",
   "pygments_lexer": "ipython3",
   "version": "3.6.7"
  },
  "nteract": {
   "version": "0.9.1"
  },
  "varInspector": {
   "cols": {
    "lenName": 16,
    "lenType": 16,
    "lenVar": 40
   },
   "kernels_config": {
    "python": {
     "delete_cmd_postfix": "",
     "delete_cmd_prefix": "del ",
     "library": "var_list.py",
     "varRefreshCmd": "print(var_dic_list())"
    },
    "r": {
     "delete_cmd_postfix": ") ",
     "delete_cmd_prefix": "rm(",
     "library": "var_list.r",
     "varRefreshCmd": "cat(var_dic_list()) "
    }
   },
   "types_to_exclude": [
    "module",
    "function",
    "builtin_function_or_method",
    "instance",
    "_Feature"
   ],
   "window_display": false
  }
 },
 "nbformat": 4,
 "nbformat_minor": 2
}
